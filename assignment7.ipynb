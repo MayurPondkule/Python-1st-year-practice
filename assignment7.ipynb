{
  "nbformat": 4,
  "nbformat_minor": 0,
  "metadata": {
    "colab": {
      "provenance": []
    },
    "kernelspec": {
      "name": "python3",
      "display_name": "Python 3"
    },
    "language_info": {
      "name": "python"
    }
  },
  "cells": [
    {
      "cell_type": "code",
      "metadata": {
        "id": "qyKjOQtmb3EU"
      },
      "source": [
        "#Assignment No.7  \n",
        ". Write a Python program to read a given .txt file and count total number of ‘the’ in the given file, find total words and total lines in the file. \n",
        "#Name =Mayur Pondkule \n",
        "#Roll No. = 3041\n",
        "#Division = C\n",
        "#Batch = C2\n",
        "\n",
        "file = open(\"Assignment_No_7.txt\", \"w\") \n",
        "file = open(\"Assignment_No_7.txt\", \"r\") \n",
        "print(file.read()) \n",
        "count_line = 0 \n",
        "count_word = 0 \n",
        "count_the = 0 \n",
        "print(file.tell()) \n",
        "print(file.seek(0)) \n",
        "for line in file: \n",
        " count_line += 1 \n",
        " for word in line.split(): \n",
        " count_word += 1 \n",
        " if (word.lower() == \"the\"): \n",
        " count_the += 1 \n",
        "print(\"Total number of lines =\", count_line) \n",
        "print(\"Total number of words =\", count_word) \n",
        "print(\"Total number of the =\", count_the)\n"
      ],
      "execution_count": null,
      "outputs": []
    }
  ]
}