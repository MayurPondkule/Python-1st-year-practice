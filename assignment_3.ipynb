{
  "nbformat": 4,
  "nbformat_minor": 0,
  "metadata": {
    "colab": {
      "provenance": []
    },
    "kernelspec": {
      "name": "python3",
      "display_name": "Python 3"
    },
    "language_info": {
      "name": "python"
    }
  },
  "cells": [
    {
      "cell_type": "code",
      "metadata": {
        "colab": {
          "base_uri": "https://localhost:8080/"
        },
        "id": "lj0eT_O3clOu",
        "outputId": "331dee11-0394-476d-94aa-2713b0c92dff"
      },
      "source": [
        "# Assignment3  (A). Write a Python program to check whether a character is uppercase or lowercase alphabet.\n",
        "\n",
        "# NAME: Mayur Pondkule\n",
        "# ROLL NO:3041\n",
        "# PRN NO:22010670\n",
        "# Division:C\n",
        "# Batch:C2\n",
        "\n",
        "ch = input(\"Please Enter Character : \")\n",
        "\n",
        "if(ch >= 'A' and ch <= 'Z'):\n",
        "    print(ch,\" is an Uppercase Alphabet\")\n",
        "\n",
        "elif(ch >= 'a' and ch <= 'z'):\n",
        "    print(ch,\" is a Lowercase Alphabet\")\n",
        "\n",
        "elif(ch>='0' and ch<='9'):\n",
        "    print(ch,\" is a digit number\")\n",
        "    \n",
        "else:\n",
        "    print(ch,\"invalid character or digit \")"
      ],
      "execution_count": null,
      "outputs": [
        {
          "output_type": "stream",
          "text": [
            "Please Enter Character : s\n",
            "s  is a Lowercase Alphabet\n"
          ],
          "name": "stdout"
        }
      ]
    },
    {
      "cell_type": "code",
      "metadata": {
        "colab": {
          "base_uri": "https://localhost:8080/"
        },
        "id": "2SSyg___n_7G",
        "outputId": "beeb0481-393b-4e99-8f51-048dd097ad4a"
      },
      "source": [
        "# (B)Write a Python program to check whether a character is uppercase or lowercase alphabet using isupper() and islower()\n",
        "\n",
        "ch = input(\"Please Enter Character : \")\n",
        "if ch.isupper():\n",
        "    print(ch,\" is an Uppercase Alphabet\")\n",
        "elif ch.islower:\n",
        "    print(ch,\" is a Lowercase Alphabet\")\n",
        "\n",
        "else:\n",
        "  print(ch,\"is a single digit number\")"
      ],
      "execution_count": null,
      "outputs": [
        {
          "output_type": "stream",
          "text": [
            "Please Enter Character : A\n",
            "A  is an Uppercase Alphabet\n"
          ],
          "name": "stdout"
        }
      ]
    },
    {
      "cell_type": "code",
      "metadata": {
        "colab": {
          "base_uri": "https://localhost:8080/"
        },
        "id": "iaz7tDho2X9O",
        "outputId": "0cc89667-084d-4b7c-c60b-e724743dd77e"
      },
      "source": [
        "# (C) Write a Python program to check whether a character is uppercase or lowercase alphabet using ord(ch)\n",
        "\n",
        "\n",
        "ch = input(\"Please Enter Character : \")\n",
        "if (65<=ord(ch)<=90):\n",
        "    print(ch,\"is uppercase alphabet\")\n",
        "\n",
        "elif(97<=ord(ch)<=122):\n",
        "    print(ch,\"is lowercase alphabet\")\n",
        "\n",
        "elif('0'<=ch<='9'):\n",
        "    print(ch,\"is a single digit number\")\n",
        "\n",
        "else:\n",
        "  print(ch,\"is not alphabet character or digit number\")"
      ],
      "execution_count": null,
      "outputs": [
        {
          "output_type": "stream",
          "text": [
            "Please Enter Character : 7\n",
            "7 is a single digit number\n"
          ],
          "name": "stdout"
        }
      ]
    }
  ]
}