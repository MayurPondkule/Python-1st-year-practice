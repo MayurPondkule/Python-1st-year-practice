{
  "cells": [
    {
      "cell_type": "code",
      "execution_count": null,
      "metadata": {
        "colab": {
          "base_uri": "https://localhost:8080/"
        },
        "id": "zbbjx3EFosrb",
        "outputId": "2ca92dc0-b798-4fca-e37a-89a2e736b689"
      },
      "outputs": [
        {
          "name": "stdout",
          "output_type": "stream",
          "text": [
            "2\n"
          ]
        }
      ],
      "source": [
        "\n",
        "# may 2021  Mayur Pondkule\n",
        "a=2              \n",
        "print(a)"
      ]
    },
    {
      "cell_type": "code",
      "execution_count": null,
      "metadata": {
        "colab": {
          "base_uri": "https://localhost:8080/"
        },
        "id": "3c--kGkcsqzf",
        "outputId": "03ccbad5-f2d5-483f-c3b0-505053073b1f"
      },
      "outputs": [
        {
          "name": "stdout",
          "output_type": "stream",
          "text": [
            "15\n"
          ]
        }
      ],
      "source": [
        "print(10+5)"
      ]
    },
    {
      "cell_type": "code",
      "execution_count": null,
      "metadata": {
        "colab": {
          "base_uri": "https://localhost:8080/"
        },
        "id": "VSTti4c7tOvb",
        "outputId": "b2e7dc55-5918-41b6-effa-cb6f6235ee20"
      },
      "outputs": [
        {
          "name": "stdout",
          "output_type": "stream",
          "text": [
            "2 2 2\n"
          ]
        }
      ],
      "source": [
        "a=b=c=2\n",
        "print(a,b,c)"
      ]
    },
    {
      "cell_type": "code",
      "execution_count": null,
      "metadata": {
        "colab": {
          "base_uri": "https://localhost:8080/"
        },
        "id": "vnpin1tCtanA",
        "outputId": "03bbfe68-de77-479f-e8b6-d5b656eabd8b"
      },
      "outputs": [
        {
          "name": "stdout",
          "output_type": "stream",
          "text": [
            "1 2 3\n"
          ]
        }
      ],
      "source": [
        "a,b,c=1,2,3\n",
        "print(a,b,c)"
      ]
    },
    {
      "cell_type": "code",
      "execution_count": null,
      "metadata": {
        "colab": {
          "base_uri": "https://localhost:8080/"
        },
        "id": "rwY_SUvwtpup",
        "outputId": "ccb712cd-0d6b-48c8-c5d0-a1832f78014b"
      },
      "outputs": [
        {
          "data": {
            "text/plain": [
              "int"
            ]
          },
          "execution_count": 8,
          "metadata": {
            "tags": []
          },
          "output_type": "execute_result"
        }
      ],
      "source": [
        "a=145\n",
        "type(a)"
      ]
    },
    {
      "cell_type": "code",
      "execution_count": null,
      "metadata": {
        "colab": {
          "base_uri": "https://localhost:8080/"
        },
        "id": "VTixfYEzuEzY",
        "outputId": "c6b464e4-1439-4132-be1f-7a6b2e525829"
      },
      "outputs": [
        {
          "data": {
            "text/plain": [
              "float"
            ]
          },
          "execution_count": 9,
          "metadata": {
            "tags": []
          },
          "output_type": "execute_result"
        }
      ],
      "source": [
        "b=22.3\n",
        "type(b)"
      ]
    },
    {
      "cell_type": "code",
      "execution_count": null,
      "metadata": {
        "colab": {
          "base_uri": "https://localhost:8080/"
        },
        "id": "bMqW9mg4-gzz",
        "outputId": "d7d4afbc-9f8a-4e3c-f923-350aa1c8d47b"
      },
      "outputs": [
        {
          "data": {
            "text/plain": [
              "bool"
            ]
          },
          "execution_count": 7,
          "metadata": {
            "tags": []
          },
          "output_type": "execute_result"
        }
      ],
      "source": [
        "a=2                #overwriting\n",
        "b=2.2\n",
        "c=True\n",
        "type(a)\n",
        "type(b)\n",
        "type(c)\n"
      ]
    },
    {
      "cell_type": "code",
      "execution_count": null,
      "metadata": {
        "colab": {
          "base_uri": "https://localhost:8080/"
        },
        "id": "lU6Uwjn-_qZa",
        "outputId": "78d57cc8-1895-431f-a700-2e5b9cccb7c6"
      },
      "outputs": [
        {
          "name": "stdout",
          "output_type": "stream",
          "text": [
            "<class 'int'>\n",
            "<class 'float'>\n",
            "<class 'bool'>\n"
          ]
        }
      ],
      "source": [
        "a=2\n",
        "b=2.2\n",
        "c=True\n",
        "print(type(a))\n",
        "print(type(b))\n",
        "print(type(c))"
      ]
    },
    {
      "cell_type": "code",
      "execution_count": null,
      "metadata": {
        "colab": {
          "base_uri": "https://localhost:8080/"
        },
        "id": "HMv6djlD-3kM",
        "outputId": "3d554bd1-5aa6-4c64-ea9d-bc0719ca0bee"
      },
      "outputs": [
        {
          "name": "stdout",
          "output_type": "stream",
          "text": [
            "(2+5j)\n"
          ]
        }
      ],
      "source": [
        "x=2\n",
        "y=5\n",
        "z=print(complex(2,5))\n"
      ]
    },
    {
      "cell_type": "code",
      "execution_count": null,
      "metadata": {
        "colab": {
          "base_uri": "https://localhost:8080/"
        },
        "id": "ZVd_jmHeBDl5",
        "outputId": "ed7c1869-bc72-4950-dafe-426847c927d2"
      },
      "outputs": [
        {
          "name": "stdout",
          "output_type": "stream",
          "text": [
            "True\n"
          ]
        },
        {
          "data": {
            "text/plain": [
              "bool"
            ]
          },
          "execution_count": 32,
          "metadata": {
            "tags": []
          },
          "output_type": "execute_result"
        }
      ],
      "source": [
        "a=True\n",
        "print(a)\n",
        "type(a)\n"
      ]
    },
    {
      "cell_type": "code",
      "execution_count": null,
      "metadata": {
        "colab": {
          "base_uri": "https://localhost:8080/"
        },
        "id": "h1Kl4LEoDItB",
        "outputId": "c6aa4079-66e2-4558-e0dc-c03916cdea93"
      },
      "outputs": [
        {
          "name": "stdout",
          "output_type": "stream",
          "text": [
            "<class 'int'>\n",
            "True\n"
          ]
        }
      ],
      "source": [
        "a=2        #if value of a is not define then print(a>ff) give error\n",
        "ff=1\n",
        "print(type(ff))\n",
        "print(a>ff)"
      ]
    },
    {
      "cell_type": "code",
      "execution_count": null,
      "metadata": {
        "colab": {
          "base_uri": "https://localhost:8080/"
        },
        "id": "1Uzev6UMGQWB",
        "outputId": "cccd80eb-13e4-4c58-beae-feb170aea314"
      },
      "outputs": [
        {
          "name": "stdout",
          "output_type": "stream",
          "text": [
            "<class 'int'>\n",
            "True\n"
          ]
        }
      ],
      "source": [
        "ff=1\n",
        "print(type(ff))\n",
        "print(5>ff)"
      ]
    },
    {
      "cell_type": "code",
      "execution_count": null,
      "metadata": {
        "colab": {
          "base_uri": "https://localhost:8080/"
        },
        "id": "DrG8B2NjGy00",
        "outputId": "bbc740d5-5def-4d86-9036-bfc206d73159"
      },
      "outputs": [
        {
          "name": "stdout",
          "output_type": "stream",
          "text": [
            "<class 'int'>\n",
            "True\n"
          ]
        }
      ],
      "source": [
        "5\n",
        "print(type(5))\n",
        "a=7\n",
        "print(a==7)"
      ]
    },
    {
      "cell_type": "code",
      "execution_count": null,
      "metadata": {
        "colab": {
          "base_uri": "https://localhost:8080/"
        },
        "id": "idIvW40HHcki",
        "outputId": "b3921e5e-9e5f-4731-b199-1d407a6bd416"
      },
      "outputs": [
        {
          "name": "stdout",
          "output_type": "stream",
          "text": [
            "False\n"
          ]
        },
        {
          "data": {
            "text/plain": [
              "bool"
            ]
          },
          "execution_count": 79,
          "metadata": {
            "tags": []
          },
          "output_type": "execute_result"
        }
      ],
      "source": [
        "bool1=False\n",
        "print(bool1)\n",
        "type(bool1)"
      ]
    },
    {
      "cell_type": "code",
      "execution_count": null,
      "metadata": {
        "colab": {
          "base_uri": "https://localhost:8080/"
        },
        "id": "SzyEgHDcIPjT",
        "outputId": "0f58f905-865a-464b-d148-d24a520584a7"
      },
      "outputs": [
        {
          "name": "stdout",
          "output_type": "stream",
          "text": [
            "False\n"
          ]
        }
      ],
      "source": [
        "\n",
        "a=4\n",
        "print(a>4)"
      ]
    },
    {
      "cell_type": "code",
      "execution_count": null,
      "metadata": {
        "colab": {
          "base_uri": "https://localhost:8080/"
        },
        "id": "athq9dcsJNSW",
        "outputId": "13b30177-dd52-43ff-d73a-cbfcd3fa7b2e"
      },
      "outputs": [
        {
          "name": "stdout",
          "output_type": "stream",
          "text": [
            "5\n",
            "-1\n",
            "6\n",
            "0.6666666666666666\n",
            "1\n"
          ]
        }
      ],
      "source": [
        "a=2\n",
        "b=3\n",
        "c=print((a+b))\n",
        "c=print((a-b))\n",
        "c=print((a*b))\n",
        "c=print((a/b))\n",
        "c=print((b//a))           # // use to find Quotient in form of int\n"
      ]
    },
    {
      "cell_type": "code",
      "execution_count": null,
      "metadata": {
        "colab": {
          "base_uri": "https://localhost:8080/"
        },
        "id": "PRIjFgIoJ0il",
        "outputId": "1b98a2e8-28a9-44ea-b416-d0f79c971486"
      },
      "outputs": [
        {
          "name": "stdout",
          "output_type": "stream",
          "text": [
            "0.5\n",
            "0\n"
          ]
        }
      ],
      "source": [
        "a=10\n",
        "b=20\n",
        "c=print((a/b))\n",
        "c=print(int(a/b))"
      ]
    },
    {
      "cell_type": "code",
      "execution_count": null,
      "metadata": {
        "colab": {
          "base_uri": "https://localhost:8080/"
        },
        "id": "qeno-zZjMuoX",
        "outputId": "469afd97-af72-4478-b78c-968cf906f775"
      },
      "outputs": [
        {
          "data": {
            "text/plain": [
              "10"
            ]
          },
          "execution_count": 102,
          "metadata": {
            "tags": []
          },
          "output_type": "execute_result"
        }
      ],
      "source": [
        "10%20"
      ]
    },
    {
      "cell_type": "code",
      "execution_count": null,
      "metadata": {
        "colab": {
          "base_uri": "https://localhost:8080/"
        },
        "id": "k8ugXXD7KYjB",
        "outputId": "f56004e8-66ae-488c-ba66-87d5fba3d955"
      },
      "outputs": [
        {
          "data": {
            "text/plain": [
              "3.6666666666666665"
            ]
          },
          "execution_count": 97,
          "metadata": {
            "tags": []
          },
          "output_type": "execute_result"
        }
      ],
      "source": [
        "11/3\n"
      ]
    },
    {
      "cell_type": "code",
      "execution_count": null,
      "metadata": {
        "colab": {
          "base_uri": "https://localhost:8080/"
        },
        "id": "hMC8CvhcMS1w",
        "outputId": "4fdd6457-2a83-4da7-ae9f-3a484cf0b164"
      },
      "outputs": [
        {
          "data": {
            "text/plain": [
              "3"
            ]
          },
          "execution_count": 98,
          "metadata": {
            "tags": []
          },
          "output_type": "execute_result"
        }
      ],
      "source": [
        "11//3                 "
      ]
    },
    {
      "cell_type": "code",
      "execution_count": null,
      "metadata": {
        "colab": {
          "base_uri": "https://localhost:8080/"
        },
        "id": "TA7Bwih9MfaH",
        "outputId": "a02aeb88-2e30-4fdc-ded7-9029e1eff46b"
      },
      "outputs": [
        {
          "data": {
            "text/plain": [
              "3.0"
            ]
          },
          "execution_count": 100,
          "metadata": {
            "tags": []
          },
          "output_type": "execute_result"
        }
      ],
      "source": [
        "11.0//3"
      ]
    },
    {
      "cell_type": "code",
      "execution_count": null,
      "metadata": {
        "colab": {
          "base_uri": "https://localhost:8080/"
        },
        "id": "PK4mSuxlPg1e",
        "outputId": "4ea56ed4-5948-4364-d07b-e953bee03d06"
      },
      "outputs": [
        {
          "name": "stdout",
          "output_type": "stream",
          "text": [
            "216\n"
          ]
        }
      ],
      "source": [
        "print(2 * 3 ** 3 * 4) \n"
      ]
    },
    {
      "cell_type": "code",
      "execution_count": null,
      "metadata": {
        "colab": {
          "base_uri": "https://localhost:8080/"
        },
        "id": "2MajKG3YKO7I",
        "outputId": "c5bca423-8770-42ee-a8f5-3df5ddc321e0"
      },
      "outputs": [
        {
          "name": "stdout",
          "output_type": "stream",
          "text": [
            "no output\n"
          ]
        }
      ],
      "source": [
        "a=3\n",
        "b=4\n",
        "c=7\n",
        "if(a>b and a>c):\n",
        "  print(\"a is largest\")\n",
        "else:\n",
        "    print(\"no output\")\n"
      ]
    },
    {
      "cell_type": "code",
      "execution_count": null,
      "metadata": {
        "colab": {
          "base_uri": "https://localhost:8080/"
        },
        "id": "g0qSsyOiDayH",
        "outputId": "9310b3fa-e313-44f6-873e-a052b833b6be"
      },
      "outputs": [
        {
          "name": "stdout",
          "output_type": "stream",
          "text": [
            "initial string:\n",
            "WELCOME\n",
            "WEL\n",
            "M\n",
            "E\n",
            "EMOCLEW\n",
            "EOLW\n",
            "MOC\n",
            "\n",
            "LC\n",
            "WELCOME\n",
            "WELCOME\n",
            "WELCOME\n",
            "WELCOME\n"
          ]
        }
      ],
      "source": [
        "string1=\"WELCOME\"\n",
        "print(\"initial string:\")\n",
        "print(string1)\n",
        "print(string1[0:3])\n",
        "print(string1[5])\n",
        "print(string1[-1])\n",
        "print(string1[::-1]) #diff. is -1\n",
        "print(string1[::-2])\n",
        "print(string1[-2:-5:-1])\n",
        "print(string1[2:-9])    # not printed space \n",
        "print(string1[2:-3])\n",
        "print(string1[:])\n",
        "print(string1[0:])\n",
        "print(string1[:345])\n",
        "print(string1[::])\n",
        "\n",
        "\n",
        "\n",
        "\n",
        "\n"
      ]
    },
    {
      "cell_type": "code",
      "execution_count": null,
      "metadata": {
        "colab": {
          "base_uri": "https://localhost:8080/"
        },
        "id": "Tx7uH0M8Jl2T",
        "outputId": "70b5832d-3798-407a-d97a-c5c9984d12b6"
      },
      "outputs": [
        {
          "name": "stdout",
          "output_type": "stream",
          "text": [
            "mayur i\n"
          ]
        }
      ],
      "source": [
        "mayur=\"mayur is good \"\n",
        "print(mayur[0:7])"
      ]
    },
    {
      "cell_type": "code",
      "execution_count": null,
      "metadata": {
        "colab": {
          "base_uri": "https://localhost:8080/"
        },
        "id": "EVHpUtYeFuNS",
        "outputId": "036589ed-6004-4b4a-90b4-b4081fa4a1dc"
      },
      "outputs": [
        {
          "name": "stdout",
          "output_type": "stream",
          "text": [
            "hello mayur\n"
          ]
        }
      ],
      "source": [
        "var1=\"hello \" # here space\n",
        "var2=\"mayur\"\n",
        "var3=var1+var2\n",
        "print(var3)\n"
      ]
    },
    {
      "cell_type": "code",
      "execution_count": null,
      "metadata": {
        "colab": {
          "base_uri": "https://localhost:8080/"
        },
        "id": "qhT0noJiH34w",
        "outputId": "a3e52604-8615-41c9-f3a4-bad4ea1928ac"
      },
      "outputs": [
        {
          "name": "stdout",
          "output_type": "stream",
          "text": [
            "8\n"
          ]
        }
      ],
      "source": [
        "first=2\n",
        "second=6\n",
        "print(first+second)"
      ]
    },
    {
      "cell_type": "code",
      "execution_count": null,
      "metadata": {
        "colab": {
          "base_uri": "https://localhost:8080/"
        },
        "id": "dVBp1PyQIE6E",
        "outputId": "fad48320-d13d-4734-86cf-b1998d31b430"
      },
      "outputs": [
        {
          "name": "stdout",
          "output_type": "stream",
          "text": [
            "200350\n"
          ]
        }
      ],
      "source": [
        "first='200' #making string\n",
        "second='350'\n",
        "print(first+second)"
      ]
    },
    {
      "cell_type": "code",
      "execution_count": null,
      "metadata": {
        "colab": {
          "base_uri": "https://localhost:8080/"
        },
        "id": "J1tVMWeIIgcF",
        "outputId": "0d86ab74-a76c-4f4c-9d3e-bb04192e1bbd"
      },
      "outputs": [
        {
          "name": "stdout",
          "output_type": "stream",
          "text": [
            "mayur mayur mayur \n"
          ]
        }
      ],
      "source": [
        "first='mayur '\n",
        "second=3\n",
        "print(first*second)"
      ]
    },
    {
      "cell_type": "code",
      "execution_count": null,
      "metadata": {
        "colab": {
          "base_uri": "https://localhost:8080/"
        },
        "id": "NHopwN6oJlWa",
        "outputId": "b8e68a45-fe99-460f-965e-26839b4d2d64"
      },
      "outputs": [
        {
          "name": "stdout",
          "output_type": "stream",
          "text": [
            "m\n",
            "y\n",
            "r\n",
            "['m', 'a', 'y']\n"
          ]
        }
      ],
      "source": [
        "my_list=['m','a','y','u','r']          #list indexing\n",
        "print(my_list[0])\n",
        "print(my_list[2])\n",
        "print(my_list[4])\n",
        "print(my_list[0:3])\n"
      ]
    },
    {
      "cell_type": "code",
      "execution_count": null,
      "metadata": {
        "colab": {
          "base_uri": "https://localhost:8080/"
        },
        "id": "EwNo7pe8Kl4X",
        "outputId": "3cd678e3-639b-4861-c642-8359934da014"
      },
      "outputs": [
        {
          "name": "stdout",
          "output_type": "stream",
          "text": [
            "a\n",
            "4\n",
            "e\n",
            "n\n",
            "8\n"
          ]
        },
        {
          "data": {
            "text/plain": [
              "2"
            ]
          },
          "execution_count": 4,
          "metadata": {
            "tags": []
          },
          "output_type": "execute_result"
        }
      ],
      "source": [
        "my_list=[\"mayur\",[3,0,4,1],\"levi\",\"armin\",[9,7,8]]        # nested list\n",
        "print(my_list[0][1])\n",
        "print(my_list[1][2])\n",
        "print(my_list[2][1])\n",
        "print(my_list[3][-1])\n",
        "print(my_list[4][2])         #only integer can be used for indexing eg.use my_list[4]\n",
        "                                                                      #not my_list[4.0]\n",
        "\n",
        "\n"
      ]
    },
    {
      "cell_type": "code",
      "execution_count": null,
      "metadata": {
        "colab": {
          "base_uri": "https://localhost:8080/"
        },
        "id": "XHlJDAJ2opHy",
        "outputId": "66a95fc9-0599-41f1-f8b8-2a9e60fe949d"
      },
      "outputs": [
        {
          "name": "stdout",
          "output_type": "stream",
          "text": [
            "8\n",
            "8\n"
          ]
        },
        {
          "data": {
            "text/plain": [
              "2"
            ]
          },
          "execution_count": 6,
          "metadata": {
            "tags": []
          },
          "output_type": "execute_result"
        }
      ],
      "source": [
        "my_list1=[2,3,3,7,4,6,4,8]\n",
        "print(len(my_list1))                                                               \n",
        "print(max(my_list1))\n",
        "min(my_list1)"
      ]
    },
    {
      "cell_type": "code",
      "execution_count": null,
      "metadata": {
        "colab": {
          "base_uri": "https://localhost:8080/"
        },
        "id": "eND8LITae6up",
        "outputId": "80dda378-36b8-4efa-82c1-80d7feb2b7b6"
      },
      "outputs": [
        {
          "name": "stdout",
          "output_type": "stream",
          "text": [
            "['hi', 3041, 3, 'hi', 3041, 3]\n",
            "1\n"
          ]
        }
      ],
      "source": [
        "aa=['mayur','viit']\n",
        "kk=[\"hi\",3041,3]\n",
        "\n",
        "\n",
        "\n",
        "\n",
        "print(kk*2)\n",
        "print(kk.count(3))"
      ]
    },
    {
      "cell_type": "code",
      "execution_count": null,
      "metadata": {
        "colab": {
          "base_uri": "https://localhost:8080/"
        },
        "id": "NhwinIBGB8dD",
        "outputId": "e6e8981d-5f9c-4128-c1bd-94d0259500fa"
      },
      "outputs": [
        {
          "name": "stdout",
          "output_type": "stream",
          "text": [
            "3\n"
          ]
        }
      ],
      "source": [
        "kk=[2,3,4,5,6,6,7,6]\n",
        "print(kk.count(6))\n"
      ]
    },
    {
      "cell_type": "code",
      "execution_count": null,
      "metadata": {
        "colab": {
          "base_uri": "https://localhost:8080/"
        },
        "id": "kzF5V26fs2No",
        "outputId": "3499f8d2-8400-4306-97cc-6269564373e0"
      },
      "outputs": [
        {
          "data": {
            "text/plain": [
              "True"
            ]
          },
          "execution_count": 20,
          "metadata": {
            "tags": []
          },
          "output_type": "execute_result"
        }
      ],
      "source": [
        "3 in [1,2,3]"
      ]
    },
    {
      "cell_type": "code",
      "execution_count": null,
      "metadata": {
        "colab": {
          "base_uri": "https://localhost:8080/"
        },
        "id": "U-L7AKMADjvM",
        "outputId": "d5874b1e-f5f0-4d15-c65e-0c9bd4964e1d"
      },
      "outputs": [
        {
          "name": "stdout",
          "output_type": "stream",
          "text": [
            "[1, 2, 2, 4, 5, 100]\n",
            "100\n",
            "[1, 2, 2, 4, 5, 20]\n",
            "[1, 2, 4, 5, 20]\n"
          ]
        }
      ],
      "source": [
        "list=[1,2,2,4,5]\n",
        "list1=list.append(100)\n",
        "print(list)\n",
        "print(list.pop())   #last \n",
        "list.append(20)     #add 20\n",
        "print(list)\n",
        "list.remove(2)\n",
        "print(list)\n",
        "\n"
      ]
    },
    {
      "cell_type": "code",
      "execution_count": null,
      "metadata": {
        "colab": {
          "base_uri": "https://localhost:8080/"
        },
        "id": "xNMwO8POrmHs",
        "outputId": "3e21ba63-8259-483d-9157-3b83d7826efb"
      },
      "outputs": [
        {
          "name": "stdout",
          "output_type": "stream",
          "text": [
            "{33, 3, 4, 6, 7, 8, 789, 89}\n"
          ]
        }
      ],
      "source": [
        "set1={3,4,6,7,8,33,6,789,89}\n",
        "print(set1)\n",
        "#print(set1[2])  #indexing not\n"
      ]
    },
    {
      "cell_type": "code",
      "execution_count": null,
      "metadata": {
        "colab": {
          "base_uri": "https://localhost:8080/"
        },
        "id": "gmKWuPjbKjXD",
        "outputId": "437346d3-a9fe-4be8-cf0d-0736d86c2d58"
      },
      "outputs": [
        {
          "name": "stdout",
          "output_type": "stream",
          "text": [
            "('mayur', 'levi', 2001, 43)\n"
          ]
        }
      ],
      "source": [
        "tup=('mayur','levi',2001,43)\n",
        "print(tup)\n",
        "del tup\n",
        "# print(tup)  #error yenar"
      ]
    },
    {
      "cell_type": "code",
      "execution_count": null,
      "metadata": {
        "colab": {
          "base_uri": "https://localhost:8080/"
        },
        "id": "fGs0fOcULCKa",
        "outputId": "fc4153cc-70f3-4a3f-acb3-90076aaa41e9"
      },
      "outputs": [
        {
          "data": {
            "text/plain": [
              "6"
            ]
          },
          "execution_count": 23,
          "metadata": {
            "tags": []
          },
          "output_type": "execute_result"
        }
      ],
      "source": [
        "tup=(1,3,'mayur','levi',4,7)\n",
        "len(tup)"
      ]
    },
    {
      "cell_type": "code",
      "execution_count": null,
      "metadata": {
        "colab": {
          "base_uri": "https://localhost:8080/"
        },
        "id": "RdLH0CaqL3yJ",
        "outputId": "21ee3854-003a-4f04-a874-feb7db1ea450"
      },
      "outputs": [
        {
          "name": "stdout",
          "output_type": "stream",
          "text": [
            "(2, 0)\n"
          ]
        }
      ],
      "source": [
        "a=10\n",
        "b=5\n",
        "print(divmod(a,b))"
      ]
    },
    {
      "cell_type": "code",
      "execution_count": null,
      "metadata": {
        "colab": {
          "base_uri": "https://localhost:8080/"
        },
        "id": "qznnt0c5PAhS",
        "outputId": "811e3350-c7c2-4bf7-ad0a-d82aabdbc0cc"
      },
      "outputs": [
        {
          "name": "stdout",
          "output_type": "stream",
          "text": [
            "{'name': 'mayur', 'age': 20, 'class': 'first'}\n",
            "{'age': 20, 'class': 'first'}\n",
            "{}\n",
            "<class 'dict'>\n"
          ]
        }
      ],
      "source": [
        "dict={'name':'mayur','age':20,'class':'first'}\n",
        "print(dict)\n",
        "del dict['name']\n",
        "print(dict)\n",
        "dict.clear()\n",
        "print(dict)\n",
        "del dict\n",
        "print(dict)"
      ]
    },
    {
      "cell_type": "code",
      "execution_count": null,
      "metadata": {
        "colab": {
          "base_uri": "https://localhost:8080/"
        },
        "id": "e-Z9jZxqStk1",
        "outputId": "06c19368-5243-4b9f-c519-b652a36e2e3c"
      },
      "outputs": [
        {
          "name": "stdout",
          "output_type": "stream",
          "text": [
            "{'10': 20, 39: 41, 'name': 'viit'}\n",
            "{'10': 20, 39: 41, 'name': 'viit', 30: 'hi', 'division': 'C'}\n",
            "name = viit\n",
            "dict_keys(['10', 39, 'name', 30, 'division'])\n",
            "dict_values([20, 41, 'viit', 'hi', 'C'])\n",
            "dict_items([('10', 20), (39, 41), ('name', 'viit'), (30, 'hi'), ('division', 'C')])\n",
            "{39: 41, 'name': 'viit', 30: 'hi', 'division': 'C'}\n"
          ]
        }
      ],
      "source": [
        "dict={'10':20,39:41,'name':'viit'}\n",
        "print(dict)\n",
        "dict[30]='hi'\n",
        "dict['division']='C'\n",
        "print(dict)\n",
        "print(\"name =\",dict['name'])\n",
        "print(dict.keys())\n",
        "print(dict.values())\n",
        "print(dict.items())\n",
        "del dict['10']\n",
        "print(dict)"
      ]
    },
    {
      "cell_type": "code",
      "execution_count": null,
      "metadata": {
        "colab": {
          "base_uri": "https://localhost:8080/"
        },
        "id": "zdwbT258aUi2",
        "outputId": "e5f8392e-2bdb-4ad5-a767-f0dfe93a2060"
      },
      "outputs": [
        {
          "name": "stdout",
          "output_type": "stream",
          "text": [
            "{'apple', 1, 2, 'cherry', 'banana'}\n"
          ]
        }
      ],
      "source": [
        "set={'apple','banana','cherry',1,2,2}\n",
        "print(set)"
      ]
    },
    {
      "cell_type": "code",
      "execution_count": null,
      "metadata": {
        "colab": {
          "base_uri": "https://localhost:8080/"
        },
        "id": "HdsiTCGabXqJ",
        "outputId": "1eede456-fe8b-44cf-e07c-67fdefd4e4d7"
      },
      "outputs": [
        {
          "name": "stdout",
          "output_type": "stream",
          "text": [
            "database of student\n",
            "{1: 'akash', 'PRN NO': 220106701, 'roll no': 3041}\n"
          ]
        }
      ],
      "source": [
        "print(\"database of student\")\n",
        "C1={1:'akash','PRN NO':220106701,'roll no':3041}\n",
        "C2={2:'mayur','PRN NO':220106702,'roll no':3042}\n",
        "C3={3:'levi','PRN NO':220106703,'roll no':3043}\n",
        "C4={4:'armin','PRN NO':220106704,'roll no':3044}\n",
        "C5={5:'laukik','PRN NO':220106705,'roll no':3045}\n",
        "C6={6:'pratham','PRN NO':220106706,'roll no':3046}\n",
        "print(C1)\n",
        "print(input())"
      ]
    }
  ],
  "metadata": {
    "colab": {
      "provenance": []
    },
    "kernelspec": {
      "display_name": "Python 3",
      "name": "python3"
    },
    "language_info": {
      "name": "python"
    }
  },
  "nbformat": 4,
  "nbformat_minor": 0
}
