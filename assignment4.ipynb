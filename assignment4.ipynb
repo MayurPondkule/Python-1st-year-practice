{
  "nbformat": 4,
  "nbformat_minor": 0,
  "metadata": {
    "colab": {
      "provenance": []
    },
    "kernelspec": {
      "name": "python3",
      "display_name": "Python 3"
    },
    "language_info": {
      "name": "python"
    }
  },
  "cells": [
    {
      "cell_type": "code",
      "metadata": {
        "colab": {
          "base_uri": "https://localhost:8080/"
        },
        "id": "BIGfbYZrfL3Z",
        "outputId": "39655665-d170-4748-d946-728ea7adc018"
      },
      "source": [
        "#assignment 4:Create a Python script that finds out your age in a maximum of 10 tries. The script can ask\n",
        "# you only one type of question: guessing your age! (e.g. “Are you 67 years old?”) And you\n",
        "# can answer only one of these three options: (a)Less (b)More (c)Correct\n",
        "\n",
        "\n",
        "# NAME: Mayur Pondkule\n",
        "# ROLL NO:3041\n",
        "# PRN NO:22010670\n",
        "# Division:C\n",
        "# Batch:C2\n",
        "\n",
        "min_age=1\n",
        "max_age=46\n",
        "for i in range(1,10):\n",
        "    guessed_age=int((min_age+max_age)/2)\n",
        "    print(\"guessed_age:\",guessed_age)\n",
        "    ans=input(\"are you \"+str(guessed_age)+\" years old?\")\n",
        "    if ans==\"correct\":\n",
        "      print(\"its correct guess\")\n",
        "      break\n",
        "    elif ans==\"more\":\n",
        "      min_age=guessed_age\n",
        "    elif ans==\"less\":\n",
        "      max_age=guessed_age\n",
        "    else:\n",
        "      print(\"its wrong choice please make correction\")\n"
      ],
      "execution_count": null,
      "outputs": [
        {
          "output_type": "stream",
          "text": [
            "guessed_age: 23\n",
            "are you 23 years old?less\n",
            "guessed_age: 12\n",
            "are you 12 years old?more\n",
            "guessed_age: 17\n",
            "are you 17 years old?more\n",
            "guessed_age: 20\n",
            "are you 20 years old?less\n",
            "guessed_age: 18\n",
            "are you 18 years old?more\n",
            "guessed_age: 19\n",
            "are you 19 years old?correct\n",
            "its correct guess\n"
          ],
          "name": "stdout"
        }
      ]
    },
    {
      "cell_type": "code",
      "metadata": {
        "colab": {
          "base_uri": "https://localhost:8080/"
        },
        "id": "gXV-atTBal1C",
        "outputId": "28cdfbd2-c4eb-4440-ae2f-d5fe9541443e"
      },
      "source": [
        "import numpy as np\n",
        "a=np.array([(1,2,3,4,5,6)])\n",
        "print(a.dtype)"
      ],
      "execution_count": null,
      "outputs": [
        {
          "output_type": "stream",
          "text": [
            "int64\n"
          ],
          "name": "stdout"
        }
      ]
    },
    {
      "cell_type": "code",
      "metadata": {
        "id": "72XjhwtUiKIS"
      },
      "source": [],
      "execution_count": null,
      "outputs": []
    }
  ]
}