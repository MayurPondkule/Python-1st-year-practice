{
  "nbformat": 4,
  "nbformat_minor": 0,
  "metadata": {
    "colab": {
      "provenance": []
    },
    "kernelspec": {
      "name": "python3",
      "display_name": "Python 3"
    },
    "language_info": {
      "name": "python"
    }
  },
  "cells": [
    {
      "cell_type": "code",
      "metadata": {
        "colab": {
          "base_uri": "https://localhost:8080/"
        },
        "id": "11VliQWSE_71",
        "outputId": "6ecfa12a-5831-4485-a072-557c6e1126e7"
      },
      "source": [
        "import numpy as np\n",
        "a = np.log(10e-50)\n",
        "b = np.log(50e-50)\n",
        "print(\"Logarithm of the sum of exponentiations:\")\n",
        "print(np.logaddexp(a, b))\n",
        "print(\"Logarithm of the sum of exponentiations of the inputs in base-2:\")\n",
        "print(np.logaddexp2(a, b))\n"
      ],
      "execution_count": null,
      "outputs": [
        {
          "output_type": "stream",
          "text": [
            "Logarithm of the sum of exponentiations:\n",
            "-111.03491008748018\n",
            "Logarithm of the sum of exponentiations of the inputs in base-2:\n",
            "-110.80827418058507\n"
          ],
          "name": "stdout"
        }
      ]
    },
    {
      "cell_type": "code",
      "metadata": {
        "colab": {
          "base_uri": "https://localhost:8080/"
        },
        "id": "pWaCKt7gG0Q0",
        "outputId": "8155c1fd-3277-430e-fc26-c6837400f639"
      },
      "source": [
        "import numpy as np\n",
        "arr1=np.array([1,2,3,4])\n",
        "arr2=np.array([2,2,2,2])\n",
        "pow_val=np.power(arr1,arr2)           \n",
        "print(\" powers of an array values element-wise:\",pow_val)\n"
      ],
      "execution_count": null,
      "outputs": [
        {
          "output_type": "stream",
          "text": [
            " powers of an array values element-wise: [ 1  4  9 16]\n"
          ],
          "name": "stdout"
        }
      ]
    },
    {
      "cell_type": "code",
      "metadata": {
        "colab": {
          "base_uri": "https://localhost:8080/"
        },
        "id": "QQYzldcPHBDp",
        "outputId": "cd860a91-20d9-463f-eff1-3485af696b39"
      },
      "source": [
        "import numpy as np \n",
        "a=np.array([-10.4, 15.2, .30])\n",
        "print(a)\n",
        "abs_val=np.fabs(a)\n",
        "print(\"the absolute value element-wise:\",abs_val)\n"
      ],
      "execution_count": null,
      "outputs": [
        {
          "output_type": "stream",
          "text": [
            "[-10.4  15.2   0.3]\n",
            "the absolute value element-wise: [10.4 15.2  0.3]\n"
          ],
          "name": "stdout"
        }
      ]
    },
    {
      "cell_type": "code",
      "metadata": {
        "colab": {
          "base_uri": "https://localhost:8080/"
        },
        "id": "ipMDe1sAIJM0",
        "outputId": "268372eb-08cf-4001-ca18-907f5b691322"
      },
      "source": [
        "import numpy as np\n",
        "s=np.arange(1000)\n",
        "print(\"Average of array element:\",s.mean())\n",
        "print(\"Standard deviation of the array elements:\",s.std())\n",
        "print(\"Variance of the array elements:\",s.var())\n"
      ],
      "execution_count": null,
      "outputs": [
        {
          "output_type": "stream",
          "text": [
            "Average of array element: 499.5\n",
            "Standard deviation of the array elements: 288.6749902572095\n",
            "Variance of the array elements: 83333.25\n"
          ],
          "name": "stdout"
        }
      ]
    },
    {
      "cell_type": "code",
      "metadata": {
        "colab": {
          "base_uri": "https://localhost:8080/"
        },
        "id": "ugxnnBxkJRJj",
        "outputId": "2515e403-1085-40f5-8946-370d6e99de51"
      },
      "source": [
        "import numpy as np\n",
        "arr1=np.array((30,60,90,0))\n",
        "sin_val=np.sin(arr1*(np.pi/180))\n",
        "print(\"sine array of angles given in degrees:\",sin_val)\n",
        "cos_val=np.cos(arr1*(np.pi/180))\n",
        "print(\"cosine array of angles given in degrees:\",cos_val)\n",
        "tan_val=np.tan(arr1*(np.pi/180))\n",
        "print(\"tangent array of angles given in degrees:\",tan_val)\n"
      ],
      "execution_count": null,
      "outputs": [
        {
          "output_type": "stream",
          "text": [
            "sine array of angles given in degrees: [0.5       0.8660254 1.        0.       ]\n",
            "cosine array of angles given in degrees: [8.66025404e-01 5.00000000e-01 6.12323400e-17 1.00000000e+00]\n",
            "tangent array of angles given in degrees: [5.77350269e-01 1.73205081e+00 1.63312394e+16 0.00000000e+00]\n"
          ],
          "name": "stdout"
        }
      ]
    },
    {
      "cell_type": "code",
      "metadata": {
        "colab": {
          "base_uri": "https://localhost:8080/"
        },
        "id": "wHZ6DXkwJzz6",
        "outputId": "6f8482fb-1ffc-4d51-fea8-e1232bb0f606"
      },
      "source": [
        "import numpy as np\n",
        "import time\n",
        "t1=time.time()\n",
        "list=[20,30,40,50]\n",
        "list1=np.exp(list)-1\n",
        "print(list1)\n",
        "t2=time.time()\n",
        "print(\"Time required for list operation is:\",t2-t1)\n",
        "t3=time.time()\n",
        "arr=np.array([20,30,40,50])\n",
        "arr1=np.exp(arr)-1\n",
        "print(arr1)\n",
        "t4=time.time()\n",
        "print(\"Time required for array operation is:\",t4-t3)\n",
        "print(\"Numpy is \" + str((t4-t3)/(t2-t1)) + \" faster\")\n"
      ],
      "execution_count": null,
      "outputs": [
        {
          "output_type": "stream",
          "text": [
            "[4.85165194e+08 1.06864746e+13 2.35385267e+17 5.18470553e+21]\n",
            "Time required for list operation is: 0.002506256103515625\n",
            "[4.85165194e+08 1.06864746e+13 2.35385267e+17 5.18470553e+21]\n",
            "Time required for array operation is: 0.0010304450988769531\n",
            "Numpy is 0.4111491628614916 faster\n"
          ],
          "name": "stdout"
        }
      ]
    },
    {
      "cell_type": "code",
      "metadata": {
        "colab": {
          "base_uri": "https://localhost:8080/"
        },
        "id": "xYJT72krK8d0",
        "outputId": "ca566f97-0e40-42c7-b24a-36d345416c16"
      },
      "source": [
        "import numpy as np\n",
        "sample_array=np.array([[11,22,33],[44,55,66],[77,88,99]])\n",
        "print(\"Printing Input Array :\")\n",
        "print(sample_array)\n",
        "print(\" array of items in the third column from all rows\",sample_array[0:,2])\n"
      ],
      "execution_count": null,
      "outputs": [
        {
          "output_type": "stream",
          "text": [
            "Printing Input Array :\n",
            "[[11 22 33]\n",
            " [44 55 66]\n",
            " [77 88 99]]\n",
            " array of items in the third column from all rows [33 66 99]\n"
          ],
          "name": "stdout"
        }
      ]
    },
    {
      "cell_type": "code",
      "metadata": {
        "colab": {
          "base_uri": "https://localhost:8080/",
          "height": 389
        },
        "id": "CrymYGksLZEw",
        "outputId": "42bac7bc-c189-400e-d336-7f4ba28bfb81"
      },
      "source": [
        "from pylab import*\n",
        "import numpy as np\n",
        "month=np.array([\"Jan\",\"Feb\",\"March\",\"Apr\",\"May\",\"June\",\"July\",\"Aug\",\"Sept\",\"Oct\",\"Nov\",\"Dec\"])\n",
        "comp1=np.array([44,56,40,50,60,47,56,30,75,28,100,20])\n",
        "subplot(4,1,1)\n",
        "plot(month,comp1)\n",
        "xlabel(\"Months\")\n",
        "ylabel(\"Sales\")\n",
        "legend([\"Company 1\"])\n",
        "show()\n",
        "comp2=np.random.randint(100,size=12)\n",
        "subplot(4,1,2)\n",
        "plot(month,comp2)\n",
        "xlabel(\"Months\")\n",
        "ylabel(\"Sales\")\n",
        "legend([\"Company 2\"])\n",
        "show()\n",
        "comp3=np.random.randint(100,size=12)\n",
        "subplot(4,1,3)\n",
        "plot(month,comp3)\n",
        "xlabel(\"Months\")\n",
        "ylabel(\"Sales\")\n",
        "legend([\"Company 3\"])\n",
        "show()\n",
        "comp4=np.random.randint(100,size=12)\n",
        "subplot(4,1,4)\n",
        "plot(month,comp4)\n",
        "xlabel(\"Months\")\n",
        "ylabel(\"Sales\")\n",
        "legend([\"Company 4\"])\n",
        "show()\n"
      ],
      "execution_count": null,
      "outputs": [
        {
          "output_type": "display_data",
          "data": {
            "image/png": "[encoded data removed]",
            "text/plain": [
              "<Figure size 432x288 with 1 Axes>"
            ]
          },
          "metadata": {
            "tags": [],
            "needs_background": "light"
          }
        },
        {
          "output_type": "display_data",
          "data": {
            "image/png": "[encoded data removed]",
            "text/plain": [
              "<Figure size 432x288 with 1 Axes>"
            ]
          },
          "metadata": {
            "tags": [],
            "needs_background": "light"
          }
        },
        {
          "output_type": "display_data",
          "data": {
            "image/png": "[encoded data removed]",
            "text/plain": [
              "<Figure size 432x288 with 1 Axes>"
            ]
          },
          "metadata": {
            "tags": [],
            "needs_background": "light"
          }
        },
        {
          "output_type": "display_data",
          "data": {
            "image/png": "[encoded data removed]",
            "text/plain": [
              "<Figure size 432x288 with 1 Axes>"
            ]
          },
          "metadata": {
            "tags": [],
            "needs_background": "light"
          }
        }
      ]
    }
  ]
}