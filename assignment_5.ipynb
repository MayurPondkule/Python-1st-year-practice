{
  "nbformat": 4,
  "nbformat_minor": 0,
  "metadata": {
    "colab": {
      "provenance": []
    },
    "kernelspec": {
      "display_name": "Python 3",
      "name": "python3"
    },
    "language_info": {
      "name": "python"
    }
  },
  "cells": [
    {
      "cell_type": "code",
      "metadata": {
        "colab": {
          "base_uri": "https://localhost:8080/"
        },
        "id": "OtIixZ4en5dU",
        "outputId": "ed447bfa-d932-4706-893b-450e5e5f9ea6"
      },
      "source": [
        "# Write a Python program to find factorial of given number (using fact() function).\n",
        "\n",
        "# NAME: Mayur Pondkule\n",
        "# ROLL NO:3041\n",
        "# PRN NO:22010670\n",
        "# Division:C\n",
        "# Batch:C2\n",
        "\n",
        "Number=int(input('Enter the value to find factorial of given number='))\n",
        "\n",
        "fact=1\n",
        "if Number==0:\n",
        "    print('Factorial of zero is 1 ')\n",
        "elif Number<0:\n",
        "    print('Factorial of negative number does not exist')\n",
        "else:\n",
        "    i=1\n",
        "    while i<=Number:\n",
        "        fact=fact*i\n",
        "        i=i+1\n",
        "    print(\"Factorial of given Number = \",fact)\n",
        "\n",
        "\n",
        "\n",
        "# using user defined function (using fact() function):\n",
        "\n",
        "Number = int(input('Enter the value to find factorial of given number='))\n",
        "def fact_for(number):\n",
        "    fact = 1\n",
        "fact=1\n",
        "if Number==0:\n",
        "    print('Factorial of zero is 1 ')\n",
        "elif Number<0:\n",
        "    print('Factorial of negative number does not exist')\n",
        "else:\n",
        "    for i in range(1,Number+1):\n",
        "        fact=fact*i\n",
        "    print(\"Factorial of given Number using fact_for = \",fact)\n",
        "\n",
        "\n",
        "def fact_while(Number):\n",
        "    fact=1\n",
        "    if Number==0:\n",
        "        print('Factorial of zero is 1 ')\n",
        "    elif Number<0:\n",
        "\n",
        "\n",
        "      print('Factorial of negative number does not exist ')\n",
        "    else:\n",
        "        i = 1\n",
        "        while i<=Number:\n",
        "            fact=fact*i\n",
        "            i=i+1\n",
        "        print(\"Factorial of given Number using fact_while = \",fact)\n",
        "\n",
        "fact_for(Number)\n",
        "fact_while(Number)                       #calling fact for()function\n",
        "\n",
        "\n",
        "\n",
        "\n",
        "# import math\n",
        "# def fact(n):\n",
        "#     return(math.factorial(n))\n",
        "\n",
        "# num=int(input(\"enter number:\"))\n",
        "# fact=fact(num)\n",
        "# print(\"factorial of\",num,\"is\",fact)\n",
        "\n"
      ],
      "execution_count": null,
      "outputs": [
        {
          "output_type": "stream",
          "text": [
            "Enter the value to find factorial of given number=5\n",
            "Factorial of given Number =  120\n",
            "Enter the value to find factorial of given number=7\n",
            "Factorial of given Number using fact_for =  5040\n",
            "Factorial of given Number using fact_while =  5040\n"
          ],
          "name": "stdout"
        }
      ]
    },
    {
      "cell_type": "code",
      "metadata": {
        "id": "1o-x37gsp2pn"
      },
      "source": [
        "import numpy as np\n",
        "arr1=[1,2]\n",
        "arr2=[3,4]\n",
        "add_val=np.add(arr1,arr2)"
      ],
      "execution_count": null,
      "outputs": []
    }
  ]
}