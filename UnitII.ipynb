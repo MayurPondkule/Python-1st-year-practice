{
  "cells": [
    {
      "cell_type": "code",
      "execution_count": null,
      "metadata": {
        "colab": {
          "base_uri": "https://localhost:8080/"
        },
        "id": "J4zAHyM4R-q5",
        "outputId": "3e617262-9bce-4c51-b4c2-db5c221d8f30"
      },
      "outputs": [
        {
          "name": "stdout",
          "output_type": "stream",
          "text": [
            "try again \n",
            "hi\n"
          ]
        }
      ],
      "source": [
        "\n",
        "# may 2021  Mayur Pondkule\n",
        "\n",
        "student=\"VIIT\"\n",
        "if student==\"VIIT\":\n",
        "    print(\"welcome to PE class\")\n",
        "    print(\"hi\")\n",
        "\n",
        "\n",
        "print(\"try again \")\n",
        "print(\"hi\")   "
      ]
    },
    {
      "cell_type": "code",
      "execution_count": null,
      "metadata": {
        "id": "7VAYBPZKqUQu"
      },
      "outputs": [],
      "source": [
        "import numpy as np\n",
        "arr1=[1,2]\n",
        "arr2=[3,4]\n",
        "add_val=np.add(arr1,arr2)"
      ]
    },
    {
      "cell_type": "code",
      "execution_count": null,
      "metadata": {
        "colab": {
          "base_uri": "https://localhost:8080/"
        },
        "id": "QareKlGEpSYA",
        "outputId": "7000eccd-dc51-486c-bb68-f8d77d55e59f"
      },
      "outputs": [
        {
          "name": "stdout",
          "output_type": "stream",
          "text": [
            "try again \n",
            "hi\n"
          ]
        }
      ],
      "source": [
        "student=\"VIT\"\n",
        "if student==\"VIIT\":\n",
        "    print(\"welcome to PE class\")\n",
        "    print(\"hi\")\n",
        "\n",
        "print(\"try again \")\n",
        "print(\"hi\")"
      ]
    },
    {
      "cell_type": "code",
      "execution_count": null,
      "metadata": {
        "colab": {
          "base_uri": "https://localhost:8080/"
        },
        "id": "RY5XNr0CpdcP",
        "outputId": "53bbe5c5-b555-4954-da94-239eb8e84bce"
      },
      "outputs": [
        {
          "name": "stdout",
          "output_type": "stream",
          "text": [
            "x is smaller than y\n"
          ]
        }
      ],
      "source": [
        "x,y=23,45\n",
        "\n",
        "if x>y:\n",
        "    print(\"x is greater than y\")\n",
        "\n",
        "elif x<y:                                         #else if\n",
        "    print(\"x is smaller than y\")\n",
        "\n",
        "else:\n",
        "    print(\"x and y are equal\")"
      ]
    },
    {
      "cell_type": "code",
      "execution_count": null,
      "metadata": {
        "colab": {
          "base_uri": "https://localhost:8080/"
        },
        "id": "Evs30k26s6W9",
        "outputId": "e7152189-ac3c-4ebe-b55b-3e31014c429d"
      },
      "outputs": [
        {
          "name": "stdout",
          "output_type": "stream",
          "text": [
            "enter your marks76\n",
            "distinction\n"
          ]
        }
      ],
      "source": [
        "marks=float(input('enter your marks'))\n",
        "\n",
        "if marks>=75:\n",
        "  print(\"distinction\") \n",
        "elif marks>=60:\n",
        "  print(\"first class\")\n",
        "elif marks>=50:\n",
        "  print(\"second class\")\n",
        "elif marks>=40:\n",
        "  print(\"pass class\")\n",
        "else:\n",
        "  print(\"fail\")\n",
        "\n"
      ]
    },
    {
      "cell_type": "code",
      "execution_count": null,
      "metadata": {
        "colab": {
          "base_uri": "https://localhost:8080/"
        },
        "id": "KuSVpQlcxHcG",
        "outputId": "f30bdd30-a5bf-4d87-ee04-2ec472b1301e"
      },
      "outputs": [
        {
          "name": "stdout",
          "output_type": "stream",
          "text": [
            "enter your name:Mayur\n",
            "hello ,Mayur\n"
          ]
        }
      ],
      "source": [
        "x=input(\"enter your name:\")\n",
        "print(\"hello ,\"+x)"
      ]
    },
    {
      "cell_type": "code",
      "execution_count": null,
      "metadata": {
        "colab": {
          "base_uri": "https://localhost:8080/"
        },
        "id": "vwqiqI7iC9D3",
        "outputId": "39b0a64d-3620-46c4-87f3-01416c7d2c30"
      },
      "outputs": [
        {
          "name": "stdout",
          "output_type": "stream",
          "text": [
            "2, 1, 0, -1, -2, -3, -4, "
          ]
        }
      ],
      "source": [
        "for num in range(2,-5,-1):\n",
        "    print(num, end=\", \")"
      ]
    },
    {
      "cell_type": "code",
      "execution_count": null,
      "metadata": {
        "colab": {
          "base_uri": "https://localhost:8080/"
        },
        "id": "50uoKueaS3DL",
        "outputId": "785b4768-9f80-4f8d-86ce-855d6ab564a2"
      },
      "outputs": [
        {
          "name": "stdout",
          "output_type": "stream",
          "text": [
            "enter num12\n",
            "enter num2444\n",
            "enter num35\n",
            "largest is num2 444\n"
          ]
        }
      ],
      "source": [
        "num1=int(input(\"enter num1\"))\n",
        "num2=int(input(\"enter num2\"))\n",
        "num3=int(input(\"enter num3\"))\n",
        "\n",
        "\n",
        "\n",
        "if num1>num2 and num1>4num3:\n",
        "     print(\"largest is num1=\",num1)\n",
        "\n",
        "elif num2>num1 and num2>num3:\n",
        "     print(\"largest is num2\",num2)\n",
        "\n",
        "else:\n",
        "      print(\"largest is num3\",num3)\n"
      ]
    },
    {
      "cell_type": "code",
      "execution_count": null,
      "metadata": {
        "colab": {
          "base_uri": "https://localhost:8080/"
        },
        "id": "dsGnQkeaDXbl",
        "outputId": "7ecbe2ad-5f7f-43af-9784-40df1b90b207"
      },
      "outputs": [
        {
          "name": "stdout",
          "output_type": "stream",
          "text": [
            "10\n",
            "9\n",
            "8\n",
            "7\n",
            "6\n",
            "5\n",
            "4\n",
            "3\n",
            "2\n",
            "1\n"
          ]
        }
      ],
      "source": [
        "\n",
        "for i in reversed(range(1,11)):\n",
        "    print(i)"
      ]
    },
    {
      "cell_type": "code",
      "execution_count": null,
      "metadata": {
        "colab": {
          "base_uri": "https://localhost:8080/"
        },
        "id": "T7f3oVmKHmmP",
        "outputId": "b616be42-2c94-4461-8fd5-139fac96ba72"
      },
      "outputs": [
        {
          "name": "stdout",
          "output_type": "stream",
          "text": [
            "55\n"
          ]
        }
      ],
      "source": [
        "#addition of 10 natural number\n",
        "\n",
        "add=0\n",
        "for i in range(1,11):\n",
        "    add=add+i\n",
        "else:\n",
        "    print(add)"
      ]
    }
  ],
  "metadata": {
    "colab": {
      "provenance": []
    },
    "kernelspec": {
      "display_name": "Python 3",
      "name": "python3"
    },
    "language_info": {
      "name": "python"
    }
  },
  "nbformat": 4,
  "nbformat_minor": 0
}
