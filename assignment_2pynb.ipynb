{
  "nbformat": 4,
  "nbformat_minor": 0,
  "metadata": {
    "colab": {
      "provenance": [],
      "toc_visible": true
    },
    "kernelspec": {
      "name": "python3",
      "display_name": "Python 3"
    },
    "language_info": {
      "name": "python"
    }
  },
  "cells": [
    {
      "cell_type": "code",
      "metadata": {
        "colab": {
          "base_uri": "https://localhost:8080/"
        },
        "id": "1Mg7kE_RSH_h",
        "outputId": "0699125d-c8c7-4f79-c935-ac395c24f348"
      },
      "source": [
        "#assignment no. 2A Write a program to read (input ()) Celsius temperature and print (print ()) equivalent Fahrenheit temperate on screen.\n",
        "#name:Mayur Pondkule\n",
        "#Division:C\n",
        "#Roll no:3041\n",
        "#Batch:C2\n",
        "#Date:26/5/21\n",
        "\n",
        "Celsius=float(input(\"Enter the temperature in celcius\"))\n",
        "far=(1.8*Celsius)+32\n",
        "print(\"temperature in Fahrenheit is \",far)"
      ],
      "execution_count": null,
      "outputs": [
        {
          "output_type": "stream",
          "text": [
            "Enter the temperature in celcius35\n",
            "temperature in Fahrenheit is  95.0\n"
          ],
          "name": "stdout"
        }
      ]
    },
    {
      "cell_type": "code",
      "metadata": {
        "colab": {
          "base_uri": "https://localhost:8080/"
        },
        "id": "4W2e3CNTWFjN",
        "outputId": "fac41292-af49-4edf-92bf-a29f6855e97e"
      },
      "source": [
        "#assignment no. 2B Write three functions that calculate the remainder of two integers by using:\n",
        " #(a)the basic operators of -,* and / and //\n",
        " #(b)the divmod function\n",
        " #(c)the % operator\n",
        "\n",
        "#name:Mayur Pondkule\n",
        "#Division:C\n",
        "#Roll no:3041\n",
        "#Batch:C2\n",
        "#26/5/21\n",
        "\n",
        "a=int(input(\"enter first number=\"))\n",
        "b=int(input(\"enter second number=\"))\n",
        "print(\"Quotient=\",a/b,\"Remainder=\",a%b)\n",
        "print(\"Quotient=\",a//b,\"Remainder=\",a-b*(a//b))\n",
        "print(\"Quotient=\",divmod(a,b)[0],\"Remainder=\",divmod(a,b)[1])"
      ],
      "execution_count": null,
      "outputs": [
        {
          "output_type": "stream",
          "text": [
            "enter first number=57\n",
            "enter second number=5\n",
            "Quotient= 11.4 Remainder= 2\n",
            "Quotient= 11 Remainder= 2\n",
            "Quotient= 11 Remainder= 2\n"
          ],
          "name": "stdout"
        }
      ]
    },
    {
      "cell_type": "code",
      "metadata": {
        "colab": {
          "base_uri": "https://localhost:8080/"
        },
        "id": "JY5YuYynYgFF",
        "outputId": "ab0a8697-4e0c-4bd8-c62b-cbb3fcaff0e3"
      },
      "source": [
        "#assignment no.2C  Copy-paste this super-nested Python list-dictionary:\n",
        "                  #   Test=[{‘Arizona’: ‘Phoenix’, ‘California’: ‘Sacramento’, ‘Hawaii’: ‘Honolulu’}, 1000,2000,3000,[‘hat’, ‘t-shirt’,‘jeans’, {‘socks1’: ‘red’, ‘socks2’: ‘blue’}]]\n",
        "                  #  (a)Return 2000 on your screen. \n",
        "                  #  (b)Return the dictionary of the cities and states on your screen. (This=[{‘Arizona’: ‘Phoenix’, ‘California’: ‘Sacramento’, ‘Hawaii’: ‘Honolulu’}.  \n",
        "                  #  (c)Return the list of the clothes on your screen! (This,[‘hat’, ‘t-shirt’, ‘jeans’, {‘socks1’: ‘red’, ‘socks2’: ‘blue’}]) \n",
        "                  #  (d) Return the word ‘Phoenix’ on your screen. \n",
        "                  #  (e) Return the word ‘jeans’ on your screen. \n",
        "                  #  (f)Return the word ‘blue’ on your screen.\n",
        "\n",
        "#name:Mayur Pondkule\n",
        "#Division:C\n",
        "#Roll no:3041\n",
        "#Batch:C2\n",
        "#26/5/21\n",
        "\n",
        "Test=[{'Arizona':'Phoenix','California':'Sacramento','Hawaii':'Honolulu'},1000,2000,3000,['hat','t-shirt','jeans',{'socks1':'red','socks2':'blue'}]]\n",
        "print(Test[2])\n",
        "print(\"dictionary of cities and states:\",Test[0])\n",
        "print(\"list of clothes:\",Test[4])\n",
        "print(\"Test[0]['Arizona']=\",Test[0]['Arizona'])\n",
        "print(\"Test[4][2]=\",Test[4][2])\n",
        "print(\"Test[4][3]['socks2']=\",Test[4][3]['socks2'])\n",
        "\n",
        "\n",
        "\n",
        "print(\"Test[0]['California']=\",Test[0]['California'])\n",
        "print(\"Test[0]['Hawaii']=\",Test[0]['Hawaii'])\n",
        "print(\"Test[0]=\",Test[0])\n",
        "print(\"Test[0].keys()=\",Test[0].keys())\n",
        "print(\"Test[0].values()=\",Test[0].values())\n",
        "print(\"Test[0]=.items()=\",Test[0].items())\n",
        "print(\"Test[1]=\",Test[1])\n",
        "print(\"Test[2]=\",Test[2])\n",
        "print(\"Test[3]=\",Test[3])\n",
        "print(\"Test[4]=\",Test[4])\n",
        "print(\"Test[4][0]=\",Test[4][0])\n",
        "print(\"Test[4][1]=\",Test[4][1])\n",
        "print(\"Test[4][3]=\",Test[4][3])\n",
        "print(\"Test[4][3]['socks1']=\",Test[4][3]['socks1'])\n",
        "print(\"Test[4][3]['socks2']=\",Test[4][3]['socks2'])\n",
        "print(\"Test[4][3].keys()=\",Test[4][3].keys())\n",
        "print(\"Test[4][3].values()=\",Test[4][3].values())\n",
        "print(\"Test[4][3].items()=\",Test[4][3].items())\n",
        "\n",
        "\n",
        "\n",
        "\n",
        "\n",
        "\n"
      ],
      "execution_count": null,
      "outputs": [
        {
          "output_type": "stream",
          "text": [
            "2000\n",
            "dictionary of cities and states: {'Arizona': 'Phoenix', 'California': 'Sacramento', 'Hawaii': 'Honolulu'}\n",
            "list of clothes: ['hat', 't-shirt', 'jeans', {'socks1': 'red', 'socks2': 'blue'}]\n",
            "Test[0]['Arizona']= Phoenix\n",
            "Test[4][2]= jeans\n",
            "Test[4][3]['socks2']= blue\n",
            "Test[0]['California']= Sacramento\n",
            "Test[0]['Hawaii']= Honolulu\n",
            "Test[0]= {'Arizona': 'Phoenix', 'California': 'Sacramento', 'Hawaii': 'Honolulu'}\n",
            "Test[0].keys()= dict_keys(['Arizona', 'California', 'Hawaii'])\n",
            "Test[0].values()= dict_values(['Phoenix', 'Sacramento', 'Honolulu'])\n",
            "Test[0]=.items()= dict_items([('Arizona', 'Phoenix'), ('California', 'Sacramento'), ('Hawaii', 'Honolulu')])\n",
            "Test[1]= 1000\n",
            "Test[2]= 2000\n",
            "Test[3]= 3000\n",
            "Test[4]= ['hat', 't-shirt', 'jeans', {'socks1': 'red', 'socks2': 'blue'}]\n",
            "Test[4][0]= hat\n",
            "Test[4][1]= t-shirt\n",
            "Test[4][3]= {'socks1': 'red', 'socks2': 'blue'}\n",
            "Test[4][3]['socks1']= red\n",
            "Test[4][3]['socks2']= blue\n",
            "Test[4][3].keys()= dict_keys(['socks1', 'socks2'])\n",
            "Test[4][3].values()= dict_values(['red', 'blue'])\n",
            "Test[4][3].items()= dict_items([('socks1', 'red'), ('socks2', 'blue')])\n"
          ],
          "name": "stdout"
        }
      ]
    }
  ]
}